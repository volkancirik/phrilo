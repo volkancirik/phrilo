{
 "cells": [
  {
   "cell_type": "markdown",
   "metadata": {},
   "source": [
    "### !!!Do not forget to change the kernel to PHRILO 3.5!!!"
   ]
  },
  {
   "cell_type": "code",
   "execution_count": 1,
   "metadata": {},
   "outputs": [],
   "source": [
    "\n",
    "%matplotlib inline\n",
    "import os\n",
    "import sys\n",
    "\n",
    "sys.path.append('..')\n",
    "\n",
    "import numpy as np\n",
    "import pickle\n",
    "import skimage.io as io\n",
    "import matplotlib.pyplot as plt\n",
    "from matplotlib.patches import Rectangle\n",
    "\n",
    "from IPython.display import display, clear_output\n",
    "import ipywidgets\n",
    "\n",
    "import os, h5py, json, argparse\n",
    "from os.path import isfile, join\n",
    "from os import listdir\n",
    "\n",
    "from collections import defaultdict\n",
    "\n",
    "\n",
    "%reload_ext autoreload\n",
    "%autoreload 2"
   ]
  },
  {
   "cell_type": "code",
   "execution_count": 2,
   "metadata": {},
   "outputs": [],
   "source": [
    "class Phrase(object):\n",
    "    def __init__(self,tokens = [], entity = 'N/A', etype = 'N/A'):\n",
    "        self.tokens = tokens\n",
    "        self.entity = entity\n",
    "        self.etype  = etype\n",
    "def get_sentence(sentence):\n",
    "    return \" \".join([\" \".join(phrase.tokens) for phrase in sentence])\n",
    "def get_entities(sentence):\n",
    "    return [phrase.entity for phrase in sentence if phrase.entity != 'N/A']"
   ]
  },
  {
   "cell_type": "code",
   "execution_count": 3,
   "metadata": {},
   "outputs": [],
   "source": [
    "def parse_sentence(tokens):\n",
    "    tokens = tokens.split(' ')\n",
    "    phrase = Phrase([])\n",
    "    sentence = []\n",
    "    open_bracket = False\n",
    "    for token in tokens:\n",
    "        if token[0] == '[':\n",
    "            if open_bracket:\n",
    "                print(\"ERROR! open bracket seen multiple times\")\n",
    "                raise NotImplementedError()\n",
    "            if len(phrase.tokens) > 0:\n",
    "                sentence.append(phrase)\n",
    "                phrase = Phrase([])\n",
    "            phrase.entity = int(token.split('/')[1].split('#')[1])\n",
    "            phrase.etype  = token.split('/')[2]\n",
    "            open_bracket = True\n",
    "        elif token[-1] == ']':\n",
    "            if not open_bracket:\n",
    "                print(\"ERROR! closed bracket without opening one\")\n",
    "                raise NotImplementedError()\n",
    "            token = token[:-1]\n",
    "            phrase.tokens.append(token)\n",
    "            sentence.append(phrase)\n",
    "            open_bracket = False\n",
    "            phrase = Phrase([])\n",
    "        else:\n",
    "            phrase.tokens.append(token)\n",
    "    sentence.append(phrase)\n",
    "    return sentence"
   ]
  },
  {
   "cell_type": "code",
   "execution_count": 4,
   "metadata": {},
   "outputs": [],
   "source": [
    "def read_sentences(path = '../data/flickr30k-entities/Sentences'):\n",
    "    files = [join(path, f) for f in listdir(path) if isfile(join(path, f))]\n",
    "    idx2sentences = defaultdict(list)\n",
    "    \n",
    "    for f in files:\n",
    "        for line in open(f):\n",
    "            l = line.strip()\n",
    "            s = parse_sentence(l)\n",
    "            idx = int(f.split('/')[-1].replace(\".txt\",\"\"))\n",
    "            idx2sentences[idx].append(s)\n",
    "    return idx2sentences"
   ]
  },
  {
   "cell_type": "code",
   "execution_count": 5,
   "metadata": {},
   "outputs": [],
   "source": [
    "dataset = np.load('../data/flickr30k.imdb.npy')[()]\n",
    "\n",
    "idx2sentences = read_sentences()"
   ]
  },
  {
   "cell_type": "code",
   "execution_count": 6,
   "metadata": {},
   "outputs": [],
   "source": [
    "fname2idx = {}\n",
    "idx2fname = {}\n",
    "for idx,instance in enumerate(dataset):\n",
    "\n",
    "    fname = int(instance['im_path'].split('/')[-1].replace('.jpg',''))\n",
    "    fname2idx[fname] = idx\n",
    "    idx2fname[idx]   = fname"
   ]
  },
  {
   "cell_type": "code",
   "execution_count": 7,
   "metadata": {},
   "outputs": [],
   "source": [
    "def entity2boxid(regions):\n",
    "    e2box = defaultdict(set)\n",
    "    box2e = defaultdict(set)\n",
    "    for i,region in enumerate(regions):\n",
    "        bbox,ann_id,sentences = region\n",
    "        for ann in ann_id:\n",
    "            ann = int(ann)\n",
    "            e2box[ann].add(i)\n",
    "            box2e[i].add(ann)\n",
    "    return e2box, box2e"
   ]
  },
  {
   "cell_type": "code",
   "execution_count": 8,
   "metadata": {},
   "outputs": [],
   "source": [
    "def drawTree(sent,name):\n",
    "    cf = CanvasFrame()\n",
    "    t = Tree.fromstring(sent)\n",
    "    tc = TreeWidget(cf.canvas(),t)\n",
    "    tc['node_font'] = 'ubuntu 18 bold'\n",
    "    tc['leaf_font'] = 'ubuntu 16 bold'\n",
    "#     tc['node_color'] = '#007996'\n",
    "#     tc['leaf_color'] = '#668D3C'\n",
    "#     tc['line_color'] = '#816C5B'\n",
    "    \n",
    "    tc['node_color'] = '#636363'\n",
    "    tc['leaf_color'] = '#000000'\n",
    "    tc['line_color'] = '#000000'\n",
    "    \n",
    "    cf.add_widget(tc,0,0) # (10,10) offsets\n",
    "    cf.print_to_file('{}.ps'.format(name))\n",
    "    os.system('convert {}.ps {}'.format(name,name))\n",
    "    cf.destroy()\n",
    "\n",
    "def drawTrees(fname):\n",
    "    l = [line.strip().replace(\"@\",\"\") for line in open(fname)]\n",
    "    tree = T.from_sexpr(l[0])\n",
    "    drawTree(tree.children[0].children[1].children[1].getRaw(),'tree.png')\n",
    "    #drawTree(l[0],'tree.png')\n",
    "    t = T.from_sexpr(l[0])\n",
    "    t.preClean()                                                                                                                                  \n",
    "    t.adopt()                                                                                                                                     \n",
    "    t.adopt()                                                                                                                                     \n",
    "    t.preTriplet(blacklist)                                                                                                                       \n",
    "    to3 = t.children[0] if len(t.children) == 1 else t                                                                                            \n",
    "    d,ct_raw = to3.findTriplet(blacklist)                                                                                          \n",
    "    drawTree(ct_raw, 'ctree.png')\n",
    "    \n",
    "def plotInstance(instance, gid = [], pid = 0,fname = 'prediction.png', add_text = True,\n",
    "                idx_set = set()):\n",
    "    \n",
    "    im_path = instance['im_path']\n",
    "    regions = instance['regions'] # FIX the path to image with .replace()\n",
    "        \n",
    "    fig = plt.figure()\n",
    "\n",
    "    ax = plt.gca()\n",
    "    ax.get_xaxis().set_visible(False)\n",
    "    ax.get_yaxis().set_visible(False)\n",
    "              \n",
    "    I = io.imread(im_path)\n",
    "    imshape = I.shape\n",
    "    ax.imshow(I)\n",
    "\n",
    "    gold = False\n",
    "    idx = 0\n",
    "    drawn = set()\n",
    "    lwidth = 2\n",
    "    for i,region in enumerate(regions):\n",
    "        if idx_set != set() and i not in idx_set:\n",
    "            #print \"SKIPPING UNMENTIONED BOX:\",i\n",
    "            continue\n",
    "        bbox,sentences,ann_id = region\n",
    "\n",
    "        pcolor = '#FF9642'\n",
    "        if i == pid:\n",
    "            pcolor = '#C0362C'\n",
    "        if i in set(gid):\n",
    "            pcolor = '#007996'\n",
    "        if i == pid and i in set(gid):\n",
    "            pcolor = '#668D3C'\n",
    "            \n",
    "        box_plot = Rectangle((bbox[0], bbox[1]), bbox[2]-bbox[0], bbox[3]-bbox[1], fill=False, edgecolor=pcolor, linewidth=lwidth)\n",
    "        ax.add_patch(box_plot)\n",
    "        if add_text:\n",
    "            ax.text(bbox[0]-25, bbox[1]-15, '{}'.format(i),\n",
    "                    bbox=dict(facecolor='#ad4141',alpha = 0.5),fontsize = 18, color = 'white')\n",
    "    fig.tight_layout()\n",
    "    fig.savefig(fname)\n",
    "    plt.close()\n",
    "\n",
    "    return imshape"
   ]
  },
  {
   "cell_type": "code",
   "execution_count": 10,
   "metadata": {},
   "outputs": [
    {
     "data": {
      "application/vnd.jupyter.widget-view+json": {
       "model_id": "7de53696aa0c4bd7bb5ef6f2d9a4e03e",
       "version_major": 2,
       "version_minor": 0
      },
      "text/plain": [
       "HBox(children=(Button(description='Previous', style=ButtonStyle()), Button(description='Next', style=ButtonSty…"
      ]
     },
     "metadata": {},
     "output_type": "display_data"
    },
    {
     "data": {
      "application/vnd.jupyter.widget-view+json": {
       "model_id": "f45574552c834e85afa385a7b5c4e9e6",
       "version_major": 2,
       "version_minor": 0
      },
      "text/plain": [
       "HBox(children=(Button(description='Previous Sent', style=ButtonStyle()), Button(description='Next Sent', style…"
      ]
     },
     "metadata": {},
     "output_type": "display_data"
    },
    {
     "data": {
      "application/vnd.jupyter.widget-view+json": {
       "model_id": "28d3e4e37fef4b10bfaada4c53490f3e",
       "version_major": 2,
       "version_minor": 0
      },
      "text/plain": [
       "HBox(children=(Image(value=b'\\x89PNG\\r\\n\\x1a\\n\\x00\\x00\\x00\\rIHDR\\x00\\x00\\x01\\xb0\\x00\\x00\\x01 \\x08\\x06\\x00\\x00\\…"
      ]
     },
     "metadata": {},
     "output_type": "display_data"
    },
    {
     "data": {
      "application/vnd.jupyter.widget-view+json": {
       "model_id": "b2f66b1ee37c4757875bb2e93ba4f030",
       "version_major": 2,
       "version_minor": 0
      },
      "text/plain": [
       "VBox(children=(HBox(children=(Label(value=''),)),))"
      ]
     },
     "metadata": {},
     "output_type": "display_data"
    },
    {
     "name": "stdout",
     "output_type": "stream",
     "text": [
      "[Two pudgy](0 1) , [middle-aged women](0 1) stand in [a parking lot](3) next to [an empty shopping cart](2) .\n"
     ]
    }
   ],
   "source": [
    "input_nl   = ipywidgets.Label(value=\"\")\n",
    "\n",
    "ibutton_next = ipywidgets.Button(description=\"Next\")\n",
    "ibutton_prev = ipywidgets.Button(description=\"Previous\")\n",
    "islider = ipywidgets.IntSlider(description='Instance#')\n",
    "\n",
    "sbutton_next = ipywidgets.Button(description=\"Next Sent\")\n",
    "sbutton_prev = ipywidgets.Button(description=\"Previous Sent\")\n",
    "sslider = ipywidgets.IntSlider(description='Sentence#')\n",
    "\n",
    "cb  = ipywidgets.Checkbox(value=False, description='Only Annotated Boxes',disabled=False)\n",
    "\n",
    "islider.max = len(dataset)-1\n",
    "islider.value = 0\n",
    "sslider.max = 4\n",
    "sslider.value = 0\n",
    "\n",
    "NL   = ipywidgets.HBox([input_nl])\n",
    "\n",
    "ihbox,shbox,tbox,inputs = None,None,None,None\n",
    "\n",
    "def on_nexti(b):\n",
    "    sslider.value = 0    \n",
    "    islider.value += 1\n",
    "    on_button_clicked(None)\n",
    "    \n",
    "def on_previousi(b):\n",
    "    sslider.value = 0\n",
    "    islider.value -= 1\n",
    "    on_button_clicked(None)\n",
    "\n",
    "def on_nexts(b):\n",
    "    sslider.value += 1\n",
    "    on_button_clicked(None)\n",
    "    \n",
    "def on_previouss(b):\n",
    "    sslider.value -= 1\n",
    "    on_button_clicked(None)\n",
    "    \n",
    "def handle_islider_change(change):\n",
    "    sslider.value = 0\n",
    "    on_button_clicked(None)\n",
    "    \n",
    "def handle_sslider_change(change):\n",
    "    on_button_clicked(None)    \n",
    "\n",
    "def on_button_clicked(change):\n",
    "    instance_idx = islider.value\n",
    "    sentence_idx = sslider.value\n",
    "    instance = dataset[instance_idx]\n",
    "    \n",
    "    e2box, box2e = entity2boxid(instance['regions'])\n",
    "    \n",
    "    \n",
    "    \n",
    "    all_idx = set()\n",
    "    s = idx2sentences[idx2fname[instance_idx]][sentence_idx]\n",
    "    token = []\n",
    "    for phrase in s:\n",
    "        if phrase.entity != 'N/A' and phrase.entity in e2box:\n",
    "            idx = \" \".join([str(val) for val in list(e2box[phrase.entity])])\n",
    "            tok = '[' +\" \".join(phrase.tokens) + '](' + idx +')'\n",
    "            all_idx = all_idx | e2box[phrase.entity]\n",
    "        else:\n",
    "            tok = \" \".join(phrase.tokens)\n",
    "        token += [tok]\n",
    "    if cb.value:\n",
    "        idx_set = all_idx\n",
    "    else:\n",
    "        idx_set = set()\n",
    "    shape = plotInstance(instance, gid = [], pid = [], idx_set = idx_set)\n",
    "    _     = plotInstance(instance, gid = [], pid = [], idx_set = idx_set,\n",
    "                         add_text = False,fname = 'prediction.noboxid.png')\n",
    "   \n",
    "    tf = open(\"prediction.png\", \"rb\")\n",
    "    anns = tf.read()\n",
    "\n",
    "    c = 0.5\n",
    "    w = 300\n",
    "    if not on_button_clicked.image_on:\n",
    "        ANNS  = ipywidgets.Image(value=anns,format='png')\n",
    "\n",
    "        on_button_clicked.image_on = True\n",
    "        on_button_clicked.ANNS  = ANNS\n",
    "\n",
    "    else:\n",
    "        on_button_clicked.ANNS.value  = anns\n",
    "    clear_output(wait=True)\n",
    "    if on_button_clicked.image_on:\n",
    "        display(ihbox,shbox, tbox,inputs)\n",
    "    print(\" \".join(token))\n",
    "\n",
    "\n",
    "cb.observe(on_button_clicked)\n",
    "\n",
    "on_button_clicked.image_on = False\n",
    "\n",
    "\n",
    "islider.observe(handle_islider_change, names='value')\n",
    "sslider.observe(handle_sslider_change, names='value')\n",
    "\n",
    "\n",
    "ibutton_next.on_click(on_nexti)\n",
    "ibutton_prev.on_click(on_previousi)\n",
    "sbutton_next.on_click(on_nexts)\n",
    "sbutton_prev.on_click(on_previouss)\n",
    "\n",
    "on_button_clicked(None)\n",
    "\n",
    "inputs = ipywidgets.VBox([NL])\n",
    "ihbox  = ipywidgets.HBox([ibutton_prev, ibutton_next, islider,cb])\n",
    "shbox  = ipywidgets.HBox([sbutton_prev, sbutton_next, sslider])\n",
    "tbox   = ipywidgets.HBox([on_button_clicked.ANNS]) \n",
    "\n",
    "\n",
    "display(ihbox,shbox, tbox,inputs)\n"
   ]
  },
  {
   "cell_type": "code",
   "execution_count": null,
   "metadata": {},
   "outputs": [],
   "source": []
  }
 ],
 "metadata": {
  "anaconda-cloud": {},
  "kernelspec": {
   "display_name": "Python (ban3.5)",
   "language": "python",
   "name": "ban3.5"
  },
  "language_info": {
   "codemirror_mode": {
    "name": "ipython",
    "version": 3
   },
   "file_extension": ".py",
   "mimetype": "text/x-python",
   "name": "python",
   "nbconvert_exporter": "python",
   "pygments_lexer": "ipython3",
   "version": "3.5.6"
  },
  "widgets": {
   "state": {
    "41c84283dd58439ba1e6ae0cf9028632": {
     "views": [
      {
       "cell_index": 8
      }
     ]
    },
    "5849b52fc33743c1874768a9c6d87590": {
     "views": [
      {
       "cell_index": 8
      }
     ]
    },
    "6cfecf057b5e44a289735ff73a0a97d3": {
     "views": [
      {
       "cell_index": 8
      }
     ]
    },
    "aa1954aae37447bfae41f61750e389ec": {
     "views": [
      {
       "cell_index": 8
      }
     ]
    },
    "d4f8579ac3af48ea9e9dafbf0b152af4": {
     "views": [
      {
       "cell_index": 8
      }
     ]
    },
    "eff4e90ed61a404a8fd9efd0fe9138f3": {
     "views": [
      {
       "cell_index": 8
      }
     ]
    }
   },
   "version": "1.2.0"
  }
 },
 "nbformat": 4,
 "nbformat_minor": 1
}
